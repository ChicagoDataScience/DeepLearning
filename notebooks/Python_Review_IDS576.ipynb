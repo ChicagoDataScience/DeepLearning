{
 "cells": [
  {
   "cell_type": "markdown",
   "metadata": {},
   "source": [
    "**Basic Data Types**"
   ]
  },
  {
   "cell_type": "code",
   "execution_count": 1,
   "metadata": {},
   "outputs": [
    {
     "name": "stdout",
     "output_type": "stream",
     "text": [
      "3\n",
      "3.0\n",
      "<class 'int'>\n",
      "<class 'float'>\n",
      "1.5\n",
      "1.5\n"
     ]
    }
   ],
   "source": [
    "x = 3\n",
    "y = 3.0\n",
    "z = 2\n",
    "print(x)\n",
    "print(y)\n",
    "print(type(x))\n",
    "print(type(y))\n",
    "print(x/z)\n",
    "print(y/z)"
   ]
  },
  {
   "cell_type": "code",
   "execution_count": 2,
   "metadata": {},
   "outputs": [
    {
     "name": "stdout",
     "output_type": "stream",
     "text": [
      "4\n",
      "9.0\n"
     ]
    }
   ],
   "source": [
    "x +=1 #This is a comment. No unary operators (x++ will not work)\n",
    "print(x)\n",
    "y **=2\n",
    "print(y)"
   ]
  },
  {
   "cell_type": "code",
   "execution_count": 3,
   "metadata": {},
   "outputs": [
    {
     "name": "stdout",
     "output_type": "stream",
     "text": [
      "True False ids676 . In upper case: IDS676\n"
     ]
    }
   ],
   "source": [
    "a,b = True,False\n",
    "mystring = 'ids676'\n",
    "print(a,b,mystring,'. In upper case: ' + mystring.upper())"
   ]
  },
  {
   "cell_type": "markdown",
   "metadata": {},
   "source": [
    "*Dictionary, List, Tuple, Set*"
   ]
  },
  {
   "cell_type": "code",
   "execution_count": 4,
   "metadata": {},
   "outputs": [
    {
     "name": "stdout",
     "output_type": "stream",
     "text": [
      "['i', 'd', 's'] (5, 7, 6)\n"
     ]
    }
   ],
   "source": [
    "mylist = ['i','d','s']\n",
    "mytuple = (5,7,6)\n",
    "print(mylist, mytuple)"
   ]
  },
  {
   "cell_type": "code",
   "execution_count": 5,
   "metadata": {},
   "outputs": [
    {
     "name": "stdout",
     "output_type": "stream",
     "text": [
      "['c', 'b', 'a', 5, 7, 6]\n"
     ]
    }
   ],
   "source": [
    "mylist[0] = 'c'\n",
    "mylist[1] = 'b'\n",
    "mylist[2] = 'a'\n",
    "mylist.append(5)\n",
    "mylist.extend([7,6])\n",
    "print(mylist)"
   ]
  },
  {
   "cell_type": "code",
   "execution_count": 6,
   "metadata": {},
   "outputs": [
    {
     "name": "stdout",
     "output_type": "stream",
     "text": [
      "['a', 'a', 'a', 5, 7, 6]\n",
      "{'a', 5, 6, 7}\n"
     ]
    }
   ],
   "source": [
    "mylist[:2] = 'a','a'\n",
    "print(mylist)\n",
    "print(set(mylist)) #a set object will have unique elements"
   ]
  },
  {
   "cell_type": "code",
   "execution_count": 7,
   "metadata": {},
   "outputs": [
    {
     "name": "stdout",
     "output_type": "stream",
     "text": [
      "{(5, 7, 6): 'Advanced Prediction Models', '572': 'Data Mining'}\n"
     ]
    }
   ],
   "source": [
    "course = {} #An empty dictionary/hash-map\n",
    "course[mytuple] = 'Advanced Prediction Models'\n",
    "course['572'] = 'Data Mining'\n",
    "print(course)"
   ]
  },
  {
   "cell_type": "code",
   "execution_count": 8,
   "metadata": {},
   "outputs": [
    {
     "name": "stdout",
     "output_type": "stream",
     "text": [
      "a\n",
      "a\n",
      "a\n",
      "5\n",
      "7\n",
      "6\n"
     ]
    }
   ],
   "source": [
    "for x in mylist: #A for loop\n",
    "    print(x)"
   ]
  },
  {
   "cell_type": "markdown",
   "metadata": {},
   "source": [
    "**Functions**"
   ]
  },
  {
   "cell_type": "code",
   "execution_count": 9,
   "metadata": {},
   "outputs": [
    {
     "name": "stdout",
     "output_type": "stream",
     "text": [
      "2.061153618190206e-09\n",
      "[0.26894142 0.5        0.73105858]\n"
     ]
    }
   ],
   "source": [
    "import math, numpy\n",
    "def softmax(z):\n",
    "    return (1.0/(1+math.e**(-z)))\n",
    "print(softmax(-20))\n",
    "print(softmax(numpy.asarray([-1,0,1])))"
   ]
  },
  {
   "cell_type": "markdown",
   "metadata": {},
   "source": [
    "**Numpy**"
   ]
  },
  {
   "cell_type": "code",
   "execution_count": 10,
   "metadata": {},
   "outputs": [
    {
     "name": "stdout",
     "output_type": "stream",
     "text": [
      "[-1  0  1] <class 'numpy.ndarray'> (3,) int64\n",
      "[[1. 2. 3.]\n",
      " [1. 2. 3.]] <class 'numpy.ndarray'> (2, 3) float64\n"
     ]
    }
   ],
   "source": [
    "a = numpy.array([-1,0,1])\n",
    "print(a,type(a),a.shape,a.dtype)\n",
    "b = numpy.array([[1.0,2,3],[1,2,3]])\n",
    "print(b, type(b), b.shape,b.dtype)"
   ]
  },
  {
   "cell_type": "code",
   "execution_count": 11,
   "metadata": {},
   "outputs": [
    {
     "name": "stdout",
     "output_type": "stream",
     "text": [
      "[[1. 2.]] (1, 2)\n",
      "[1. 2.] (2,)\n"
     ]
    }
   ],
   "source": [
    "c1 =  b[1:,0:2]#note the slice indexing\n",
    "print(c1,c1.shape)\n",
    "c2= b[1,0:2] #note the integer indexing\n",
    "print(c2,c2.shape)"
   ]
  },
  {
   "cell_type": "code",
   "execution_count": 12,
   "metadata": {},
   "outputs": [
    {
     "name": "stdout",
     "output_type": "stream",
     "text": [
      "[[False False  True]\n",
      " [False False  True]] [3. 3.]\n"
     ]
    }
   ],
   "source": [
    "print(b>2, b[b>2])"
   ]
  },
  {
   "cell_type": "code",
   "execution_count": 13,
   "metadata": {},
   "outputs": [
    {
     "name": "stdout",
     "output_type": "stream",
     "text": [
      "[[1 2]\n",
      " [3 4]]\n",
      "[3 7]\n"
     ]
    }
   ],
   "source": [
    "x = numpy.array([[1,2],[3,4]])\n",
    "y = numpy.array([[1,1],[1,1]])\n",
    "z = numpy.array([1,1])\n",
    "print(x*y) #elementwise product\n",
    "print(x.dot(z)) #matrix vector product"
   ]
  },
  {
   "cell_type": "code",
   "execution_count": 14,
   "metadata": {},
   "outputs": [
    {
     "name": "stdout",
     "output_type": "stream",
     "text": [
      "10 [[1 3]\n",
      " [2 4]]\n"
     ]
    }
   ],
   "source": [
    "print(x.sum(), x.T)"
   ]
  },
  {
   "cell_type": "markdown",
   "metadata": {},
   "source": [
    "**Scipy images**"
   ]
  },
  {
   "cell_type": "code",
   "execution_count": 15,
   "metadata": {},
   "outputs": [
    {
     "data": {
      "image/png": "[encoded data removed]",
      "text/plain": [
       "<Figure size 432x288 with 1 Axes>"
      ]
     },
     "metadata": {
      "needs_background": "light"
     },
     "output_type": "display_data"
    }
   ],
   "source": [
    "import imageio\n",
    "%matplotlib inline\n",
    "import matplotlib.pyplot as plt\n",
    "\n",
    "img = imageio.imread('../img/header-bg.jpg')\n",
    "\n",
    "# Show the original image\n",
    "plt.subplot(1, 2, 1)\n",
    "plt.imshow(numpy.uint8(img))\n",
    "plt.show()"
   ]
  }
 ],
 "metadata": {
  "kernelspec": {
   "display_name": "Python 3",
   "language": "python",
   "name": "python3"
  },
  "language_info": {
   "codemirror_mode": {
    "name": "ipython",
    "version": 3
   },
   "file_extension": ".py",
   "mimetype": "text/x-python",
   "name": "python",
   "nbconvert_exporter": "python",
   "pygments_lexer": "ipython3",
   "version": "3.7.1"
  }
 },
 "nbformat": 4,
 "nbformat_minor": 1
}
